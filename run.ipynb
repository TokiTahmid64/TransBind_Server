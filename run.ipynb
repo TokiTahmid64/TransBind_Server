{
 "cells": [
  {
   "cell_type": "code",
   "execution_count": 2,
   "metadata": {},
   "outputs": [],
   "source": [
    "\n",
    "import torch\n",
    "from transformers import T5EncoderModel, T5Tokenizer\n",
    "import re\n",
    "import numpy as np\n",
    "import gc\n",
    "from tqdm import tqdm\n",
    "\n",
    "\n",
    "\n",
    "tokenizer = T5Tokenizer.from_pretrained(\"Rostlab/prot_t5_xl_uniref50\", do_lower_case=False )\n",
    "device=torch.device('cuda' if torch.cuda.is_available() else 'cpu')\n",
    "print(\"Loading model...\")\n",
    "model = T5EncoderModel.from_pretrained(\"Rostlab/prot_t5_xl_uniref50\")\n",
    "print(\"Model loaded successfully.\")\n",
    "\n"
   ]
  },
  {
   "cell_type": "code",
   "execution_count": 1,
   "metadata": {},
   "outputs": [
    {
     "name": "stderr",
     "output_type": "stream",
     "text": [
      "You are using the default legacy behaviour of the <class 'transformers.models.t5.tokenization_t5.T5Tokenizer'>. This is expected, and simply means that the `legacy` (previous) behavior will be used so nothing changes for you. If you want to use the new behaviour, set `legacy=False`. This should only be set if you understand what it means, and thouroughly read the reason why this was added as explained in https://github.com/huggingface/transformers/pull/24565\n"
     ]
    },
    {
     "name": "stdout",
     "output_type": "stream",
     "text": [
      "Model and tokenizer saved locally\n"
     ]
    }
   ],
   "source": [
    "from transformers import T5Tokenizer, T5EncoderModel\n",
    "\n",
    "# Specify the directory where you want to save the model\n",
    "local_directory = \".\"\n",
    "\n",
    "# Download and save the tokenizer\n",
    "tokenizer = T5Tokenizer.from_pretrained(\"Rostlab/prot_t5_xl_uniref50\", do_lower_case=False)\n",
    "tokenizer.save_pretrained(local_directory)\n",
    "\n",
    "# Download and save the model\n",
    "model = T5EncoderModel.from_pretrained(\"Rostlab/prot_t5_xl_uniref50\")\n",
    "model.save_pretrained(local_directory)\n",
    "\n",
    "print(\"Model and tokenizer saved locally\")\n"
   ]
  },
  {
   "cell_type": "code",
   "execution_count": 10,
   "metadata": {},
   "outputs": [
    {
     "name": "stdout",
     "output_type": "stream",
     "text": [
      "(1, 11, 1024)\n"
     ]
    }
   ],
   "source": [
    "\n",
    "def generate_embedding(seq):\n",
    "    # print(seq)\n",
    "    # print(len(seq)) \n",
    "    # Ensure the model and tokenizer are on the same device (preferably GPU)\n",
    "    model.eval()  # Set the model to evaluation mode\n",
    "    DEVICE = torch.device(\"cuda\" if torch.cuda.is_available() else \"cpu\")\n",
    "    model.to(DEVICE)\n",
    "\n",
    "    # Tokenize the protein sequence\n",
    "    inputs = tokenizer(seq, return_tensors=\"pt\", truncation=True, max_length=512)\n",
    "    inputs = {key: tensor.to(DEVICE) for key, tensor in inputs.items()}\n",
    "\n",
    "    # print(inputs)\n",
    "    # Get model outputs\n",
    "    with torch.no_grad():\n",
    "        outputs = model(**inputs)\n",
    "\n",
    "    return outputs.last_hidden_state[:,1:, :].cpu().numpy()\n",
    "\n",
    "\n",
    "def main():\n",
    "    # take input from the user\n",
    "    seq = input(\"Enter the protein sequence: \")\n",
    "    seq = re.findall(r'[A-Z]', seq)\n",
    "    seq = ' '.join(seq)\n",
    "    # print(len(seq))\n",
    "    if(len(seq) > 1024):\n",
    "        print(\"Sequence length is greater than 1024. Truncating the sequence.\")\n",
    "        seq = seq[:1024]\n",
    "\n",
    "    seq = ' '.join(seq)\n",
    "\n",
    "    embedding = generate_embedding(seq)\n",
    "    # print(embedding)\n",
    "    print(embedding.shape)\n",
    "\n",
    "main()"
   ]
  },
  {
   "cell_type": "code",
   "execution_count": null,
   "metadata": {},
   "outputs": [],
   "source": []
  }
 ],
 "metadata": {
  "kernelspec": {
   "display_name": "thesis",
   "language": "python",
   "name": "python3"
  },
  "language_info": {
   "codemirror_mode": {
    "name": "ipython",
    "version": 3
   },
   "file_extension": ".py",
   "mimetype": "text/x-python",
   "name": "python",
   "nbconvert_exporter": "python",
   "pygments_lexer": "ipython3",
   "version": "3.11.5"
  }
 },
 "nbformat": 4,
 "nbformat_minor": 2
}
